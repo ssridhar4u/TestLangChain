{
 "cells": [
  {
   "cell_type": "code",
   "execution_count": 12,
   "id": "8224e31d-65fb-4aab-80e7-595eb3db92e2",
   "metadata": {},
   "outputs": [],
   "source": [
    "from langchain_openai import OpenAI\n",
    "from langchain_core.prompts import PromptTemplate\n",
    "from langchain.chains import LLMChain"
   ]
  },
  {
   "cell_type": "code",
   "execution_count": 2,
   "id": "3a994dac-6734-435a-840b-7ed29848d1e9",
   "metadata": {},
   "outputs": [],
   "source": [
    "client = OpenAI(temperature=0.9)"
   ]
  },
  {
   "cell_type": "code",
   "execution_count": 6,
   "id": "87e83322-34eb-4915-9e61-474e515f5a82",
   "metadata": {},
   "outputs": [],
   "source": [
    "text=\"What are the top 5 best cities in India\""
   ]
  },
  {
   "cell_type": "code",
   "execution_count": 7,
   "id": "ec8e4057-f53d-4255-96c3-2bd769fa1d51",
   "metadata": {},
   "outputs": [
    {
     "name": "stdout",
     "output_type": "stream",
     "text": [
      "\n",
      "1. Mumbai\n",
      "2. Delhi\n",
      "3. Bangalore\n",
      "4. Kolkata\n",
      "5. Chennai\n"
     ]
    }
   ],
   "source": [
    "print(client(text))"
   ]
  },
  {
   "cell_type": "code",
   "execution_count": 8,
   "id": "be397d45-76bf-4c4d-8753-8b0a8171e591",
   "metadata": {},
   "outputs": [
    {
     "data": {
      "text/plain": [
       "'can you tell me the capital of india?'"
      ]
     },
     "execution_count": 8,
     "metadata": {},
     "output_type": "execute_result"
    }
   ],
   "source": [
    "# Instantiation using from_template (recommended)\n",
    "prompt = PromptTemplate.from_template(\"can you tell me the capital of {country}?\")\n",
    "prompt.format(country=\"india\")\n"
   ]
  },
  {
   "cell_type": "code",
   "execution_count": 9,
   "id": "e1c9efc8-5b9a-42ee-85c7-f18541b64b3e",
   "metadata": {},
   "outputs": [
    {
     "data": {
      "text/plain": [
       "'\\n\\nThe capital of India is New Delhi.'"
      ]
     },
     "execution_count": 9,
     "metadata": {},
     "output_type": "execute_result"
    }
   ],
   "source": [
    "client.invoke(prompt.format(country=\"india\"))"
   ]
  },
  {
   "cell_type": "code",
   "execution_count": 15,
   "id": "bde54fb6-50c5-4f5e-bb33-99a2258d3d7c",
   "metadata": {},
   "outputs": [],
   "source": [
    "llm = LLMChain(llm=client, prompt=prompt)"
   ]
  },
  {
   "cell_type": "code",
   "execution_count": 19,
   "id": "07edd1f8-dbcb-4263-ae2f-07c63095138c",
   "metadata": {},
   "outputs": [
    {
     "name": "stdout",
     "output_type": "stream",
     "text": [
      "\n",
      "\n",
      "The capital of India is New Delhi. \n"
     ]
    }
   ],
   "source": [
    "print(llm.run(\"india\"))"
   ]
  },
  {
   "cell_type": "code",
   "execution_count": 20,
   "id": "088973ab-9b96-4bbc-ad1b-55e4b88f6c97",
   "metadata": {},
   "outputs": [
    {
     "name": "stdout",
     "output_type": "stream",
     "text": [
      "Requirement already satisfied: google-search-results in c:\\users\\ssambara\\appdata\\local\\anaconda3\\envs\\ai\\lib\\site-packages (2.4.2)\n",
      "Requirement already satisfied: requests in c:\\users\\ssambara\\appdata\\local\\anaconda3\\envs\\ai\\lib\\site-packages (from google-search-results) (2.31.0)\n",
      "Requirement already satisfied: charset-normalizer<4,>=2 in c:\\users\\ssambara\\appdata\\local\\anaconda3\\envs\\ai\\lib\\site-packages (from requests->google-search-results) (3.3.2)\n",
      "Requirement already satisfied: idna<4,>=2.5 in c:\\users\\ssambara\\appdata\\local\\anaconda3\\envs\\ai\\lib\\site-packages (from requests->google-search-results) (3.6)\n",
      "Requirement already satisfied: urllib3<3,>=1.21.1 in c:\\users\\ssambara\\appdata\\local\\anaconda3\\envs\\ai\\lib\\site-packages (from requests->google-search-results) (2.2.1)\n",
      "Requirement already satisfied: certifi>=2017.4.17 in c:\\users\\ssambara\\appdata\\local\\anaconda3\\envs\\ai\\lib\\site-packages (from requests->google-search-results) (2024.2.2)\n",
      "Note: you may need to restart the kernel to use updated packages.\n"
     ]
    }
   ],
   "source": [
    "pip install google-search-results"
   ]
  },
  {
   "cell_type": "code",
   "execution_count": 1,
   "id": "8625be84-45ce-411d-9990-a98d5ef2d22a",
   "metadata": {},
   "outputs": [],
   "source": [
    "from langchain.agents import load_tools\n",
    "from langchain.agents import AgentType\n",
    "from langchain.agents import initialize_agent\n",
    "from langchain_openai import OpenAI\n",
    "import os"
   ]
  },
  {
   "cell_type": "code",
   "execution_count": 26,
   "id": "9f034831-f41b-4434-98b5-1353cf402fe1",
   "metadata": {},
   "outputs": [],
   "source": [
    "os.environ['SERPAPI_API_KEY']='8c2452ae3aba1e744d343ba9ab8a67bdcbb9075a60352f74730b0856978cecc4'"
   ]
  },
  {
   "cell_type": "code",
   "execution_count": 2,
   "id": "a09d58bc-8311-425b-9466-b8b6399ca98c",
   "metadata": {},
   "outputs": [
    {
     "data": {
      "text/plain": [
       "'8c2452ae3aba1e744d343ba9ab8a67bdcbb9075a60352f74730b0856978cecc4'"
      ]
     },
     "execution_count": 2,
     "metadata": {},
     "output_type": "execute_result"
    }
   ],
   "source": [
    "os.environ['SERPAPI_API_KEY']"
   ]
  },
  {
   "cell_type": "code",
   "execution_count": 3,
   "id": "c704dd17-128d-4ba6-b9c0-1759d3447c71",
   "metadata": {},
   "outputs": [],
   "source": [
    "llm = OpenAI(temperature=0)"
   ]
  },
  {
   "cell_type": "code",
   "execution_count": 7,
   "id": "6723dcd0-2bfd-4ac6-a645-0dded6d96967",
   "metadata": {},
   "outputs": [],
   "source": [
    "tools = load_tools([\"serpapi\"],searchapi_api_key=os.environ['SERPAPI_API_KEY'], llm=llm)"
   ]
  },
  {
   "cell_type": "code",
   "execution_count": 8,
   "id": "2b71c162-f7d3-4990-a749-b200a28f8a06",
   "metadata": {},
   "outputs": [],
   "source": [
    "agent = initialize_agent(\n",
    "    tools, llm, agent=AgentType.ZERO_SHOT_REACT_DESCRIPTION, verbose=True\n",
    ")"
   ]
  },
  {
   "cell_type": "code",
   "execution_count": 9,
   "id": "e2e93343-c47d-4468-a936-4d467204d23b",
   "metadata": {},
   "outputs": [
    {
     "name": "stdout",
     "output_type": "stream",
     "text": [
      "\n",
      "\n",
      "\u001b[1m> Entering new AgentExecutor chain...\u001b[0m\n",
      "\u001b[32;1m\u001b[1;3m I should check the current weather conditions\n",
      "Action: Search\n",
      "Action Input: \"weather in Hyderabad\"\u001b[0m\n",
      "Observation: \u001b[36;1m\u001b[1;3m{'type': 'weather_result', 'temperature': '89', 'unit': 'Fahrenheit', 'precipitation': '0%', 'humidity': '41%', 'wind': '7 mph', 'location': 'Hyderabad, Telangana, India', 'date': 'Wednesday 10:00 PM', 'weather': 'Clear with periodic clouds'}\u001b[0m\n",
      "Thought:\u001b[32;1m\u001b[1;3m I should convert the temperature to Celsius for easier understanding\n",
      "Action: Calculate\n",
      "Action Input: (89-32)*5/9\u001b[0m\n",
      "Observation: Calculate is not a valid tool, try one of [Search].\n",
      "Thought:\u001b[32;1m\u001b[1;3m I should use a conversion tool to convert the temperature to Celsius\n",
      "Action: Search\n",
      "Action Input: \"convert 89 Fahrenheit to Celsius\"\u001b[0m\n",
      "Observation: \u001b[36;1m\u001b[1;3m{'type': 'unit_converter', 'unit_type': 'Temperature', 'formula': '(89°F − 32) × 5/9 = 31.667°C'}\u001b[0m\n",
      "Thought:\u001b[32;1m\u001b[1;3m I now know the final answer\n",
      "Final Answer: The weather in Hyderabad is currently 31.667 degrees Celsius.\u001b[0m\n",
      "\n",
      "\u001b[1m> Finished chain.\u001b[0m\n"
     ]
    },
    {
     "data": {
      "text/plain": [
       "'The weather in Hyderabad is currently 31.667 degrees Celsius.'"
      ]
     },
     "execution_count": 9,
     "metadata": {},
     "output_type": "execute_result"
    }
   ],
   "source": [
    "agent.run(\"What is the weather in Hyderabad?\")"
   ]
  },
  {
   "cell_type": "code",
   "execution_count": 10,
   "id": "54cb5a09-6f04-47f4-acfe-bb3820f6bc30",
   "metadata": {},
   "outputs": [],
   "source": [
    "from langchain.chains import ConversationChain\n",
    "from langchain.memory import ConversationBufferMemory\n",
    "from langchain_openai import OpenAI\n",
    "\n",
    "llm = OpenAI(temperature=0)"
   ]
  },
  {
   "cell_type": "code",
   "execution_count": 11,
   "id": "4246037f-9c44-47d8-858e-c58fddeb08d6",
   "metadata": {},
   "outputs": [],
   "source": [
    "# Here it is by default set to \"AI\"\n",
    "conversation = ConversationChain(\n",
    "    llm=llm, verbose=True, memory=ConversationBufferMemory()\n",
    ")"
   ]
  },
  {
   "cell_type": "code",
   "execution_count": 12,
   "id": "1a447163-ed62-490a-b5b6-a0f3d60d09b6",
   "metadata": {},
   "outputs": [
    {
     "name": "stdout",
     "output_type": "stream",
     "text": [
      "\n",
      "\n",
      "\u001b[1m> Entering new ConversationChain chain...\u001b[0m\n",
      "Prompt after formatting:\n",
      "\u001b[32;1m\u001b[1;3mThe following is a friendly conversation between a human and an AI. The AI is talkative and provides lots of specific details from its context. If the AI does not know the answer to a question, it truthfully says it does not know.\n",
      "\n",
      "Current conversation:\n",
      "\n",
      "Human: Hi there!\n",
      "AI:\u001b[0m\n",
      "\n",
      "\u001b[1m> Finished chain.\u001b[0m\n"
     ]
    },
    {
     "data": {
      "text/plain": [
       "\" Hello! It's nice to meet you. I am an AI created by OpenAI. I am constantly learning and improving my abilities through machine learning algorithms. How can I assist you today?\""
      ]
     },
     "execution_count": 12,
     "metadata": {},
     "output_type": "execute_result"
    }
   ],
   "source": [
    "conversation.predict(input=\"Hi there!\")"
   ]
  },
  {
   "cell_type": "code",
   "execution_count": 13,
   "id": "26ffce50-692a-40c0-b605-1563b731187f",
   "metadata": {},
   "outputs": [
    {
     "name": "stdout",
     "output_type": "stream",
     "text": [
      "\n",
      "\n",
      "\u001b[1m> Entering new ConversationChain chain...\u001b[0m\n",
      "Prompt after formatting:\n",
      "\u001b[32;1m\u001b[1;3mThe following is a friendly conversation between a human and an AI. The AI is talkative and provides lots of specific details from its context. If the AI does not know the answer to a question, it truthfully says it does not know.\n",
      "\n",
      "Current conversation:\n",
      "Human: Hi there!\n",
      "AI:  Hello! It's nice to meet you. I am an AI created by OpenAI. I am constantly learning and improving my abilities through machine learning algorithms. How can I assist you today?\n",
      "Human: What's the weather?\n",
      "AI:\u001b[0m\n",
      "\n",
      "\u001b[1m> Finished chain.\u001b[0m\n"
     ]
    },
    {
     "data": {
      "text/plain": [
       "' I am not able to access real-time weather data, but based on my current location and time, I can tell you that it is currently 75 degrees Fahrenheit with partly cloudy skies. Is there anything else you would like to know?'"
      ]
     },
     "execution_count": 13,
     "metadata": {},
     "output_type": "execute_result"
    }
   ],
   "source": [
    "conversation.predict(input=\"What's the weather?\")"
   ]
  },
  {
   "cell_type": "code",
   "execution_count": 14,
   "id": "0941f890-6981-417f-81cc-77a62b8405ee",
   "metadata": {},
   "outputs": [
    {
     "name": "stdout",
     "output_type": "stream",
     "text": [
      "\n",
      "\n",
      "\u001b[1m> Entering new ConversationChain chain...\u001b[0m\n",
      "Prompt after formatting:\n",
      "\u001b[32;1m\u001b[1;3mThe following is a friendly conversation between a human and an AI. The AI is talkative and provides lots of specific details from its context. If the AI does not know the answer to a question, it truthfully says it does not know.\n",
      "\n",
      "Current conversation:\n",
      "Human: Hi there!\n",
      "AI:  Hello! It's nice to meet you. I am an AI created by OpenAI. I am constantly learning and improving my abilities through machine learning algorithms. How can I assist you today?\n",
      "Human: What's the weather?\n",
      "AI:  I am not able to access real-time weather data, but based on my current location and time, I can tell you that it is currently 75 degrees Fahrenheit with partly cloudy skies. Is there anything else you would like to know?\n",
      "Human: Did i greet you ?\n",
      "AI:\u001b[0m\n",
      "\n",
      "\u001b[1m> Finished chain.\u001b[0m\n"
     ]
    },
    {
     "data": {
      "text/plain": [
       "' Yes, you did! Thank you for being polite. Is there anything else you would like to know or discuss?'"
      ]
     },
     "execution_count": 14,
     "metadata": {},
     "output_type": "execute_result"
    }
   ],
   "source": [
    "conversation.predict(input=\"Did i greet you ?\")"
   ]
  },
  {
   "cell_type": "code",
   "execution_count": 15,
   "id": "e1a11f62-9f52-4c3e-959a-b5815710b079",
   "metadata": {},
   "outputs": [
    {
     "name": "stdout",
     "output_type": "stream",
     "text": [
      "\n",
      "\n",
      "\u001b[1m> Entering new ConversationChain chain...\u001b[0m\n",
      "Prompt after formatting:\n",
      "\u001b[32;1m\u001b[1;3mThe following is a friendly conversation between a human and an AI. The AI is talkative and provides lots of specific details from its context. If the AI does not know the answer to a question, it truthfully says it does not know.\n",
      "\n",
      "Current conversation:\n",
      "Human: Hi there!\n",
      "AI:  Hello! It's nice to meet you. I am an AI created by OpenAI. I am constantly learning and improving my abilities through machine learning algorithms. How can I assist you today?\n",
      "Human: What's the weather?\n",
      "AI:  I am not able to access real-time weather data, but based on my current location and time, I can tell you that it is currently 75 degrees Fahrenheit with partly cloudy skies. Is there anything else you would like to know?\n",
      "Human: Did i greet you ?\n",
      "AI:  Yes, you did! Thank you for being polite. Is there anything else you would like to know or discuss?\n",
      "Human: My memory is weak, what was the second question i asked you ?\n",
      "AI:\u001b[0m\n",
      "\n",
      "\u001b[1m> Finished chain.\u001b[0m\n"
     ]
    },
    {
     "data": {
      "text/plain": [
       "' Your second question was about the weather. Is there anything else you would like to know or discuss?'"
      ]
     },
     "execution_count": 15,
     "metadata": {},
     "output_type": "execute_result"
    }
   ],
   "source": [
    "conversation.predict(input=\"My memory is weak, what was the second question i asked you ?\")"
   ]
  },
  {
   "cell_type": "code",
   "execution_count": null,
   "id": "aaffb904-7820-4c57-9f72-6e03c19b428e",
   "metadata": {},
   "outputs": [],
   "source": []
  }
 ],
 "metadata": {
  "kernelspec": {
   "display_name": "Python 3 (ipykernel)",
   "language": "python",
   "name": "python3"
  },
  "language_info": {
   "codemirror_mode": {
    "name": "ipython",
    "version": 3
   },
   "file_extension": ".py",
   "mimetype": "text/x-python",
   "name": "python",
   "nbconvert_exporter": "python",
   "pygments_lexer": "ipython3",
   "version": "3.10.14"
  }
 },
 "nbformat": 4,
 "nbformat_minor": 5
}
